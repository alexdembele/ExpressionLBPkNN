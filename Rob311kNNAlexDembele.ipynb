{
  "nbformat": 4,
  "nbformat_minor": 0,
  "metadata": {
    "colab": {
      "provenance": [],
      "authorship_tag": "ABX9TyPxHAsotEHTnsDBDFZarQbD",
      "include_colab_link": true
    },
    "kernelspec": {
      "name": "python3",
      "display_name": "Python 3"
    },
    "language_info": {
      "name": "python"
    }
  },
  "cells": [
    {
      "cell_type": "markdown",
      "metadata": {
        "id": "view-in-github",
        "colab_type": "text"
      },
      "source": [
        "<a href=\"https://colab.research.google.com/github/alexdembele/ExpressionLBPkNN/blob/main/Rob311kNNAlexDembele.ipynb\" target=\"_parent\"><img src=\"https://colab.research.google.com/assets/colab-badge.svg\" alt=\"Open In Colab\"/></a>"
      ]
    },
    {
      "cell_type": "markdown",
      "source": [
        "\n",
        "\n",
        "# TP kNN for facial expression recognition\n",
        "Alex Dembélé\n",
        "\n",
        "\n",
        "\n",
        "\n"
      ],
      "metadata": {
        "id": "vMgpdPRT2fSp"
      }
    },
    {
      "cell_type": "markdown",
      "source": [
        "The aim of this notebook is to create a model that detects facial expressions. The model is a kNN that is train on the FER-2013 dataset. It can recognize 7 expressions."
      ],
      "metadata": {
        "id": "tmVla81y2tUp"
      }
    },
    {
      "cell_type": "markdown",
      "source": [
        "Linking to drive containing the dataset."
      ],
      "metadata": {
        "id": "zAH1bwcJOwMz"
      }
    },
    {
      "cell_type": "code",
      "execution_count": 37,
      "metadata": {
        "colab": {
          "base_uri": "https://localhost:8080/"
        },
        "id": "eF2MN-A1ORhz",
        "outputId": "9c0ec67b-91c5-44b5-9160-2387ad5fc6c4"
      },
      "outputs": [
        {
          "output_type": "stream",
          "name": "stdout",
          "text": [
            "Mounted at /content/drive\n"
          ]
        }
      ],
      "source": [
        "#Link to the dataset FER-2013 : https://www.kaggle.com/datasets/msambare/fer2013\n",
        "\n",
        "from google.colab import drive\n",
        "drive.mount('/content/drive', force_remount=True)\n",
        "data_dir = \"/content/drive/My Drive/rob311kNN/\" #Replace with your drive path"
      ]
    },
    {
      "cell_type": "markdown",
      "source": [
        "Unzip the archive"
      ],
      "metadata": {
        "id": "lbhhl5MLO89Q"
      }
    },
    {
      "cell_type": "code",
      "source": [
        "%cd /content/drive/My Drive/rob311kNN\n",
        "#!unzip archive.zip\n",
        "\n"
      ],
      "metadata": {
        "colab": {
          "base_uri": "https://localhost:8080/"
        },
        "id": "aKKZPgddPAr_",
        "outputId": "24c1c2b4-5c68-4299-e003-993d9c6039f1"
      },
      "execution_count": 13,
      "outputs": [
        {
          "output_type": "stream",
          "name": "stdout",
          "text": [
            "/content/drive/My Drive/rob311kNN\n"
          ]
        }
      ]
    },
    {
      "cell_type": "code",
      "source": [
        "!ls"
      ],
      "metadata": {
        "colab": {
          "base_uri": "https://localhost:8080/"
        },
        "id": "lqK7CHtNPgwx",
        "outputId": "fd4f0ee0-fee5-447f-f457-ca41ae12bfa7"
      },
      "execution_count": 14,
      "outputs": [
        {
          "output_type": "stream",
          "name": "stdout",
          "text": [
            "archive.zip  test  train\n"
          ]
        }
      ]
    },
    {
      "cell_type": "markdown",
      "source": [
        "Importing libraries"
      ],
      "metadata": {
        "id": "aqa7fRTrRdnK"
      }
    },
    {
      "cell_type": "code",
      "source": [
        "import numpy as np\n",
        "import matplotlib.pyplot as plt\n",
        "from skimage import feature, io, color\n",
        "from sklearn.model_selection import train_test_split\n",
        "from sklearn.neighbors import KNeighborsClassifier\n",
        "from sklearn.metrics import accuracy_score\n",
        "import os"
      ],
      "metadata": {
        "id": "q45npmyzRWoc"
      },
      "execution_count": 15,
      "outputs": []
    },
    {
      "cell_type": "markdown",
      "source": [
        "Creating train and test datasets with histograms from lbp features"
      ],
      "metadata": {
        "id": "Htsy23o3Sq8j"
      }
    },
    {
      "cell_type": "code",
      "source": [
        "#This step takes some times, you can get a coffee !\n",
        "\n",
        "feelings=[\"angry\",\"disgust\",\"fear\",\"happy\",\"neutral\",\"sad\",\"surprise\"]\n",
        "\n",
        "X_train,X_test,y_train,y_test=[],[],[],[]\n",
        "\n",
        "#Train set\n",
        "for f in feelings:\n",
        "  print(f)\n",
        "  path = \"/content/drive/My Drive/rob311kNN/train/\" + f\n",
        "\n",
        "  for filename in os.listdir(path):\n",
        "\n",
        "    path_file = os.path.join(path, filename)\n",
        "\n",
        "    image = io.imread(path_file)\n",
        "    if image is not None:\n",
        "      radius = 10\n",
        "      n_points = 8 * radius\n",
        "      lbp_features = feature.local_binary_pattern(image, n_points, radius, method='uniform')\n",
        "      histogram, _ = np.histogram(lbp_features.ravel(), bins=np.arange(0, n_points + 3), range=(0, n_points + 2))\n",
        "      histogram = histogram.astype(\"float\")\n",
        "      histogram /= (histogram.sum() + 1e-7)\n",
        "      X_train.append(histogram)\n",
        "      y_train.append(f)\n",
        "\n",
        "\n",
        "#Test set\n",
        "for f in feelings:\n",
        "  print(f)\n",
        "  path = \"/content/drive/My Drive/rob311kNN/test/\" + f\n",
        "\n",
        "  for filename in os.listdir(path):\n",
        "\n",
        "    path_file = os.path.join(path, filename)\n",
        "\n",
        "    image = io.imread(path_file)\n",
        "    if image is not None:\n",
        "      radius = 10 #Change this parameter to optimize the model\n",
        "      n_points = 8 * radius\n",
        "      lbp_features = feature.local_binary_pattern(image, n_points, radius, method='uniform')\n",
        "      histogram, _ = np.histogram(lbp_features.ravel(), bins=np.arange(0, n_points + 3), range=(0, n_points + 2))\n",
        "      histogram = histogram.astype(\"float\")\n",
        "      histogram /= (histogram.sum() + 1e-7)\n",
        "      X_test.append(histogram)\n",
        "      y_test.append(f)\n",
        "\n",
        "\n"
      ],
      "metadata": {
        "colab": {
          "base_uri": "https://localhost:8080/"
        },
        "id": "SPBPxf1tS-m-",
        "outputId": "45089e2f-ee13-4bf9-e061-108401385735"
      },
      "execution_count": 16,
      "outputs": [
        {
          "output_type": "stream",
          "name": "stdout",
          "text": [
            "angry\n",
            "disgust\n",
            "fear\n",
            "happy\n",
            "neutral\n",
            "sad\n",
            "surprise\n",
            "angry\n",
            "disgust\n",
            "fear\n",
            "happy\n",
            "neutral\n",
            "sad\n",
            "surprise\n"
          ]
        }
      ]
    },
    {
      "cell_type": "markdown",
      "source": [
        "Creating kNN"
      ],
      "metadata": {
        "id": "_guz1viGXHiD"
      }
    },
    {
      "cell_type": "code",
      "source": [
        "k = 100  # Change this parameter to optimize the model\n",
        "knn_model = KNeighborsClassifier(n_neighbors=k)\n",
        "\n",
        "\n"
      ],
      "metadata": {
        "id": "IKUQH1aqXHGW"
      },
      "execution_count": 17,
      "outputs": []
    },
    {
      "cell_type": "markdown",
      "source": [
        "Training kNN"
      ],
      "metadata": {
        "id": "8MWSXqkvX-cG"
      }
    },
    {
      "cell_type": "code",
      "source": [
        "knn_model.fit(X_train, y_train)"
      ],
      "metadata": {
        "colab": {
          "base_uri": "https://localhost:8080/",
          "height": 74
        },
        "id": "-_6YJb3yX7id",
        "outputId": "5c3915c6-ced6-4129-8efb-7e2102077cd6"
      },
      "execution_count": 18,
      "outputs": [
        {
          "output_type": "execute_result",
          "data": {
            "text/plain": [
              "KNeighborsClassifier(n_neighbors=1)"
            ],
            "text/html": [
              "<style>#sk-container-id-3 {color: black;background-color: white;}#sk-container-id-3 pre{padding: 0;}#sk-container-id-3 div.sk-toggleable {background-color: white;}#sk-container-id-3 label.sk-toggleable__label {cursor: pointer;display: block;width: 100%;margin-bottom: 0;padding: 0.3em;box-sizing: border-box;text-align: center;}#sk-container-id-3 label.sk-toggleable__label-arrow:before {content: \"▸\";float: left;margin-right: 0.25em;color: #696969;}#sk-container-id-3 label.sk-toggleable__label-arrow:hover:before {color: black;}#sk-container-id-3 div.sk-estimator:hover label.sk-toggleable__label-arrow:before {color: black;}#sk-container-id-3 div.sk-toggleable__content {max-height: 0;max-width: 0;overflow: hidden;text-align: left;background-color: #f0f8ff;}#sk-container-id-3 div.sk-toggleable__content pre {margin: 0.2em;color: black;border-radius: 0.25em;background-color: #f0f8ff;}#sk-container-id-3 input.sk-toggleable__control:checked~div.sk-toggleable__content {max-height: 200px;max-width: 100%;overflow: auto;}#sk-container-id-3 input.sk-toggleable__control:checked~label.sk-toggleable__label-arrow:before {content: \"▾\";}#sk-container-id-3 div.sk-estimator input.sk-toggleable__control:checked~label.sk-toggleable__label {background-color: #d4ebff;}#sk-container-id-3 div.sk-label input.sk-toggleable__control:checked~label.sk-toggleable__label {background-color: #d4ebff;}#sk-container-id-3 input.sk-hidden--visually {border: 0;clip: rect(1px 1px 1px 1px);clip: rect(1px, 1px, 1px, 1px);height: 1px;margin: -1px;overflow: hidden;padding: 0;position: absolute;width: 1px;}#sk-container-id-3 div.sk-estimator {font-family: monospace;background-color: #f0f8ff;border: 1px dotted black;border-radius: 0.25em;box-sizing: border-box;margin-bottom: 0.5em;}#sk-container-id-3 div.sk-estimator:hover {background-color: #d4ebff;}#sk-container-id-3 div.sk-parallel-item::after {content: \"\";width: 100%;border-bottom: 1px solid gray;flex-grow: 1;}#sk-container-id-3 div.sk-label:hover label.sk-toggleable__label {background-color: #d4ebff;}#sk-container-id-3 div.sk-serial::before {content: \"\";position: absolute;border-left: 1px solid gray;box-sizing: border-box;top: 0;bottom: 0;left: 50%;z-index: 0;}#sk-container-id-3 div.sk-serial {display: flex;flex-direction: column;align-items: center;background-color: white;padding-right: 0.2em;padding-left: 0.2em;position: relative;}#sk-container-id-3 div.sk-item {position: relative;z-index: 1;}#sk-container-id-3 div.sk-parallel {display: flex;align-items: stretch;justify-content: center;background-color: white;position: relative;}#sk-container-id-3 div.sk-item::before, #sk-container-id-3 div.sk-parallel-item::before {content: \"\";position: absolute;border-left: 1px solid gray;box-sizing: border-box;top: 0;bottom: 0;left: 50%;z-index: -1;}#sk-container-id-3 div.sk-parallel-item {display: flex;flex-direction: column;z-index: 1;position: relative;background-color: white;}#sk-container-id-3 div.sk-parallel-item:first-child::after {align-self: flex-end;width: 50%;}#sk-container-id-3 div.sk-parallel-item:last-child::after {align-self: flex-start;width: 50%;}#sk-container-id-3 div.sk-parallel-item:only-child::after {width: 0;}#sk-container-id-3 div.sk-dashed-wrapped {border: 1px dashed gray;margin: 0 0.4em 0.5em 0.4em;box-sizing: border-box;padding-bottom: 0.4em;background-color: white;}#sk-container-id-3 div.sk-label label {font-family: monospace;font-weight: bold;display: inline-block;line-height: 1.2em;}#sk-container-id-3 div.sk-label-container {text-align: center;}#sk-container-id-3 div.sk-container {/* jupyter's `normalize.less` sets `[hidden] { display: none; }` but bootstrap.min.css set `[hidden] { display: none !important; }` so we also need the `!important` here to be able to override the default hidden behavior on the sphinx rendered scikit-learn.org. See: https://github.com/scikit-learn/scikit-learn/issues/21755 */display: inline-block !important;position: relative;}#sk-container-id-3 div.sk-text-repr-fallback {display: none;}</style><div id=\"sk-container-id-3\" class=\"sk-top-container\"><div class=\"sk-text-repr-fallback\"><pre>KNeighborsClassifier(n_neighbors=1)</pre><b>In a Jupyter environment, please rerun this cell to show the HTML representation or trust the notebook. <br />On GitHub, the HTML representation is unable to render, please try loading this page with nbviewer.org.</b></div><div class=\"sk-container\" hidden><div class=\"sk-item\"><div class=\"sk-estimator sk-toggleable\"><input class=\"sk-toggleable__control sk-hidden--visually\" id=\"sk-estimator-id-3\" type=\"checkbox\" checked><label for=\"sk-estimator-id-3\" class=\"sk-toggleable__label sk-toggleable__label-arrow\">KNeighborsClassifier</label><div class=\"sk-toggleable__content\"><pre>KNeighborsClassifier(n_neighbors=1)</pre></div></div></div></div></div>"
            ]
          },
          "metadata": {},
          "execution_count": 18
        }
      ]
    },
    {
      "cell_type": "markdown",
      "source": [
        "Testing kNN"
      ],
      "metadata": {
        "id": "menl2TmeYFx1"
      }
    },
    {
      "cell_type": "code",
      "source": [
        "y_pred = knn_model.predict(X_test)\n",
        "\n",
        "accuracy = accuracy_score(y_test, y_pred)\n",
        "print(\"Accuracy:\", accuracy)"
      ],
      "metadata": {
        "colab": {
          "base_uri": "https://localhost:8080/"
        },
        "id": "g76Z4AIEX6kB",
        "outputId": "cd9baa4c-fa72-4b4d-dc9f-6e09495b1f1f"
      },
      "execution_count": 19,
      "outputs": [
        {
          "output_type": "stream",
          "name": "stdout",
          "text": [
            "Accuracy: 0.30231262190025077\n"
          ]
        }
      ]
    },
    {
      "cell_type": "markdown",
      "source": [
        "Finding best parameters"
      ],
      "metadata": {
        "id": "cU8AQYL1Z8yx"
      }
    },
    {
      "cell_type": "code",
      "source": [
        "AccuracyList = []\n",
        "kList = []\n",
        "\n",
        "for k in range(1,501,5):\n",
        "  knn_model = KNeighborsClassifier(n_neighbors=k)\n",
        "  knn_model.fit(X_train, y_train)\n",
        "  y_pred = knn_model.predict(X_test)\n",
        "  accuracy = accuracy_score(y_test, y_pred)\n",
        "  kList.append(k)\n",
        "  AccuracyList.append(accuracy)\n"
      ],
      "metadata": {
        "id": "yx24qwrdZ8gI"
      },
      "execution_count": 10,
      "outputs": []
    },
    {
      "cell_type": "code",
      "source": [
        "plt.plot(kList,AccuracyList)\n",
        "plt.show()"
      ],
      "metadata": {
        "colab": {
          "base_uri": "https://localhost:8080/",
          "height": 430
        },
        "id": "GfZ6nu4kaiGd",
        "outputId": "f773e70d-6c6b-4819-c0a5-99e10415af45"
      },
      "execution_count": 11,
      "outputs": [
        {
          "output_type": "display_data",
          "data": {
            "text/plain": [
              "<Figure size 640x480 with 1 Axes>"
            ],
            "image/png": "[encoded data removed]"
          },
          "metadata": {}
        }
      ]
    },
    {
      "cell_type": "markdown",
      "source": [
        "LBP is not the best method to process images. Therefore the model does not have a good accuracy.\n",
        "\n"
      ],
      "metadata": {
        "id": "y4fRHY0T1kbo"
      }
    }
  ]
}